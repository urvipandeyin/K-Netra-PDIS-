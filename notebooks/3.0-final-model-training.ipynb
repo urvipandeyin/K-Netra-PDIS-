{
 "cells": [
  {
   "cell_type": "markdown",
   "id": "a6c067b3",
   "metadata": {},
   "source": [
    "# 3.0 - Final Model Training (HuggingFace)\n",
    "This is your Hugging Face training loop but step-by-step."
   ]
  },
  {
   "cell_type": "code",
   "execution_count": null,
   "id": "9278e369",
   "metadata": {},
   "outputs": [],
   "source": [
    "import pandas as pd\n",
    "import numpy as np\n",
    "import torch\n",
    "from datasets import Dataset\n",
    "from transformers import (\n",
    "    AutoTokenizer,\n",
    "    AutoModelForSequenceClassification,\n",
    "    Trainer,\n",
    "    TrainingArguments\n",
    ")\n",
    "from sklearn.model_selection import train_test_split\n",
    "from sklearn.metrics import accuracy_score, f1_score\n",
    "\n",
    "# --- Load dataset ---\n",
    "df = pd.read_csv(\"data/processed/combined_dataset.csv\")\n",
    "\n",
    "X = df[\"text\"].astype(str).tolist()\n",
    "y = df[\"label\"].astype(int).tolist()\n",
    "\n",
    "train_texts, val_texts, train_labels, val_labels = train_test_split(\n",
    "    X, y, test_size=0.2, random_state=42, stratify=y\n",
    ")\n",
    "\n"
   ]
  },
  {
   "cell_type": "code",
   "execution_count": null,
   "id": "d89f7b55",
   "metadata": {},
   "outputs": [],
   "source": [
    "# --- Tokenization ---\n",
    "model_name = \"xlm-roberta-base\"   # can replace with config\n",
    "tokenizer = AutoTokenizer.from_pretrained(model_name)\n",
    "\n",
    "train_encodings = tokenizer(train_texts, truncation=True, padding=True, max_length=128)\n",
    "val_encodings = tokenizer(val_texts, truncation=True, padding=True, max_length=128)\n",
    "\n",
    "train_dataset = Dataset.from_dict({**train_encodings, \"labels\": train_labels})\n",
    "val_dataset = Dataset.from_dict({**val_encodings, \"labels\": val_labels})\n"
   ]
  },
  {
   "cell_type": "code",
   "execution_count": null,
   "id": "1d5e108b",
   "metadata": {},
   "outputs": [],
   "source": [
    "# --- Define model ---\n",
    "num_labels = len(set(y))\n",
    "model = AutoModelForSequenceClassification.from_pretrained(model_name, num_labels=num_labels)\n"
   ]
  },
  {
   "cell_type": "code",
   "execution_count": null,
   "id": "e7e8255f",
   "metadata": {},
   "outputs": [],
   "source": [
    "# --- Training arguments ---\n",
    "training_args = TrainingArguments(\n",
    "    output_dir=\"models/checkpoints/\",\n",
    "    eval_strategy=\"epoch\",\n",
    "    save_strategy=\"epoch\",\n",
    "    learning_rate=2e-5,\n",
    "    per_device_train_batch_size=16,\n",
    "    per_device_eval_batch_size=16,\n",
    "    num_train_epochs=3,\n",
    "    weight_decay=0.01,\n",
    "    logging_dir=\"./logs\",\n",
    "    load_best_model_at_end=True,\n",
    "    metric_for_best_model=\"f1\",\n",
    "    logging_steps=50,\n",
    "    no_cuda=True,    # set False if GPU is available\n",
    "    fp16=False\n",
    ")\n"
   ]
  },
  {
   "cell_type": "code",
   "execution_count": null,
   "id": "feb2a5e2",
   "metadata": {},
   "outputs": [],
   "source": [
    "# --- Define metrics ---\n",
    "def compute_metrics(eval_pred):\n",
    "    logits, labels = eval_pred\n",
    "    preds = np.argmax(logits, axis=-1)\n",
    "    return {\n",
    "        \"accuracy\": accuracy_score(labels, preds),\n",
    "        \"f1\": f1_score(labels, preds, average=\"weighted\")\n",
    "    }"
   ]
  },
  {
   "cell_type": "code",
   "execution_count": null,
   "id": "19c963e4",
   "metadata": {},
   "outputs": [],
   "source": [
    "# --- Trainer ---\n",
    "trainer = Trainer(\n",
    "    model=model,\n",
    "    args=training_args,\n",
    "    train_dataset=train_dataset,\n",
    "    eval_dataset=val_dataset,\n",
    "    tokenizer=tokenizer,\n",
    "    compute_metrics=compute_metrics\n",
    ")\n",
    "\n",
    "trainer.train()\n"
   ]
  },
  {
   "cell_type": "code",
   "execution_count": null,
   "id": "f4ba4fd5",
   "metadata": {},
   "outputs": [],
   "source": [
    "# --- Save final model ---\n",
    "trainer.save_model(\"models/final/\")\n",
    "tokenizer.save_pretrained(\"models/final/\")\n"
   ]
  }
 ],
 "metadata": {
  "language_info": {
   "name": "python"
  }
 },
 "nbformat": 4,
 "nbformat_minor": 5
}
