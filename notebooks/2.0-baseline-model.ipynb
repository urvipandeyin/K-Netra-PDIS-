{
 "cells": [
  {
   "cell_type": "markdown",
   "id": "47ade7ea",
   "metadata": {},
   "source": [
    "# 2.0 - Baseline Model\n",
    "\n",
    "This mirrors the TF-IDF + Logistic Regression & Random Forest parts."
   ]
  },
  {
   "cell_type": "code",
   "execution_count": null,
   "id": "5fbad419",
   "metadata": {},
   "outputs": [],
   "source": [
    "import pandas as pd\n",
    "import joblib\n",
    "from sklearn.model_selection import train_test_split\n",
    "from sklearn.feature_extraction.text import TfidfVectorizer\n",
    "from sklearn.linear_model import LogisticRegression\n",
    "from sklearn.ensemble import RandomForestClassifier\n",
    "from sklearn.metrics import classification_report\n",
    "\n",
    "# --- Load dataset ---\n",
    "df = pd.read_csv(\"data/processed/combined_dataset.csv\")\n",
    "\n",
    "X = df[\"text\"].astype(str).tolist()\n",
    "y = df[\"label\"].astype(int).tolist()\n",
    "\n",
    "X_train, X_val, y_train, y_val = train_test_split(\n",
    "    X, y, test_size=0.2, random_state=42, stratify=y\n",
    ")\n"
   ]
  },
  {
   "cell_type": "code",
   "execution_count": null,
   "id": "6ee7ded2",
   "metadata": {},
   "outputs": [],
   "source": [
    "# --- TF-IDF Vectorization ---\n",
    "vectorizer = TfidfVectorizer(max_features=20000, ngram_range=(1,2))\n",
    "X_train_tfidf = vectorizer.fit_transform(X_train)\n",
    "X_val_tfidf = vectorizer.transform(X_val)\n"
   ]
  },
  {
   "cell_type": "code",
   "execution_count": null,
   "id": "d9d3507a",
   "metadata": {},
   "outputs": [],
   "source": [
    "# --- Logistic Regression ---\n",
    "log_reg = LogisticRegression(max_iter=200, random_state=42)\n",
    "log_reg.fit(X_train_tfidf, y_train)\n",
    "y_pred_lr = log_reg.predict(X_val_tfidf)\n",
    "\n",
    "print(\"[Baseline Logistic Regression]\")\n",
    "print(classification_report(y_val, y_pred_lr))\n",
    "\n",
    "joblib.dump((log_reg, vectorizer), \"models/checkpoints/baseline_logreg.pkl\")\n",
    "\n"
   ]
  },
  {
   "cell_type": "code",
   "execution_count": null,
   "id": "1b245beb",
   "metadata": {},
   "outputs": [],
   "source": [
    "# --- Random Forest ---\n",
    "rf = RandomForestClassifier(n_estimators=200, random_state=42)\n",
    "rf.fit(X_train_tfidf, y_train)\n",
    "y_pred_rf = rf.predict(X_val_tfidf)\n",
    "\n",
    "print(\"[Baseline Random Forest]\")\n",
    "print(classification_report(y_val, y_pred_rf))\n",
    "\n",
    "joblib.dump((rf, vectorizer), \"models/checkpoints/baseline_rf.pkl\")\n"
   ]
  }
 ],
 "metadata": {
  "language_info": {
   "name": "python"
  }
 },
 "nbformat": 4,
 "nbformat_minor": 5
}
