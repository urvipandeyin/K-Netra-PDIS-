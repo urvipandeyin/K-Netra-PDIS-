{
 "cells": [
  {
   "cell_type": "markdown",
   "id": "47ade7ea",
   "metadata": {},
   "source": [
    "# 2.0 - Baseline Model\n",
    "\n",
    "Simple scikit-learn baseline using TF-IDF + Logistic Regression."
   ]
  },
  {
   "cell_type": "code",
   "execution_count": null,
   "id": "54cfadc2",
   "metadata": {},
   "outputs": [],
   "source": [
    "# Cell 1 - imports & paths\n",
    "from pathlib import Path\n",
    "import pandas as pd\n",
    "import numpy as np\n",
    "from sklearn.model_selection import train_test_split\n",
    "from sklearn.feature_extraction.text import TfidfVectorizer\n",
    "from sklearn.linear_model import LogisticRegression\n",
    "from sklearn.metrics import classification_report, confusion_matrix\n",
    "import joblib\n",
    "\n",
    "DATA_INTERIM = Path('data/interim')\n",
    "MODELS_DIR = Path('models/checkpoints')\n",
    "MODELS_DIR.mkdir(parents=True, exist_ok=True)\n",
    "\n",
    "print(\"Paths set. DATA_INTERIM:\", DATA_INTERIM.resolve())"
   ]
  },
  {
   "cell_type": "code",
   "execution_count": null,
   "id": "7916e2bc",
   "metadata": {},
   "outputs": [],
   "source": [
    "# Cell 2 - load preprocessed sample\n",
    "train_csv = DATA_INTERIM / 'bharat_sample_clean.csv'\n",
    "if not train_csv.exists():\n",
    "    print(\"Interim file not found:\", train_csv)\n",
    "    df = pd.DataFrame({'clean_text':[], 'label':[]})\n",
    "else:\n",
    "    df = pd.read_csv(train_csv)\n",
    "\n",
    "if 'label' not in df.columns:\n",
    "    df['label'] = 0\n",
    "\n",
    "X = df['clean_text'].fillna('')\n",
    "y = df['label']\n",
    "\n",
    "if len(df) > 0 and y.nunique() > 1:\n",
    "    strat = y\n",
    "else:\n",
    "    strat = None\n",
    "\n",
    "from sklearn.model_selection import train_test_split\n",
    "X_train, X_test, y_train, y_test = train_test_split(X, y, test_size=0.2, random_state=42, stratify=strat)\n",
    "print(\"Loaded dataset. Train size:\", len(X_train))"
   ]
  },
  {
   "cell_type": "code",
   "execution_count": null,
   "id": "3f9bada5",
   "metadata": {},
   "outputs": [],
   "source": [
    "# Cell 3 - vectorize & train baseline\n",
    "vec = TfidfVectorizer(max_features=20000, ngram_range=(1,2))\n",
    "Xtr = vec.fit_transform(X_train)\n",
    "Xte = vec.transform(X_test)\n",
    "\n",
    "model = LogisticRegression(max_iter=400)\n",
    "model.fit(Xtr, y_train)\n",
    "\n",
    "# save\n",
    "joblib.dump(vec, MODELS_DIR / 'baseline_vec.joblib')\n",
    "joblib.dump(model, MODELS_DIR / 'baseline_model.pkl')\n",
    "print(\"Saved baseline model and vectorizer to\", MODELS_DIR)"
   ]
  },
  {
   "cell_type": "code",
   "execution_count": null,
   "id": "02ba1702",
   "metadata": {},
   "outputs": [],
   "source": [
    "# Cell 4 - evaluation\n",
    "if len(X_test) > 0:\n",
    "    yhat = model.predict(Xte)\n",
    "    print(classification_report(y_test, yhat))\n",
    "    print(confusion_matrix(y_test, yhat))\n",
    "else:\n",
    "    print(\"No test set available for evaluation.\")"
   ]
  },
  {
   "cell_type": "code",
   "execution_count": null,
   "id": "21323a45",
   "metadata": {},
   "outputs": [],
   "source": [
    "# Cell 5 - threat confidence function\n",
    "def threat_confidence(text):\n",
    "    p = model.predict_proba(vec.transform([text]))[0]\n",
    "    if p.shape[0] == 2:\n",
    "        return float(p[1])\n",
    "    return float(p.max())\n",
    "\n",
    "print('sample score', threat_confidence('This is a test example.'))"
   ]
  }
 ],
 "metadata": {
  "language_info": {
   "name": "python"
  }
 },
 "nbformat": 4,
 "nbformat_minor": 5
}
