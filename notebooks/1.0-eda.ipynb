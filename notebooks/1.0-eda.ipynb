{
 "cells": [
  {
   "cell_type": "markdown",
   "id": "3ec35087",
   "metadata": {},
   "source": [
    "# 1.0 - EDA\n",
    "\n",
    "Initial exploratory data analysis notebook. Run cells sequentially."
   ]
  },
  {
   "cell_type": "code",
   "execution_count": null,
   "id": "01608994",
   "metadata": {},
   "outputs": [],
   "source": [
    "# Cell 1 - imports & setup\n",
    "import os\n",
    "from pathlib import Path\n",
    "import pandas as pd\n",
    "import numpy as np\n",
    "import matplotlib.pyplot as plt\n",
    "import seaborn as sns\n",
    "\n",
    "DATA_RAW = Path('data/raw')\n",
    "DATA_INTERIM = Path('data/interim')\n",
    "DATA_INTERIM.mkdir(parents=True, exist_ok=True)\n",
    "\n",
    "pd.set_option('display.max_columns', 80)\n",
    "print(\"Setup complete. DATA_RAW:\", DATA_RAW.resolve())"
   ]
  },
  {
   "cell_type": "code",
   "execution_count": null,
   "id": "dd055d34",
   "metadata": {},
   "outputs": [],
   "source": [
    "# Cell 2 - helper functions\n",
    "import re\n",
    "from collections import Counter\n",
    "\n",
    "def basic_clean_text(text):\n",
    "    if pd.isna(text):\n",
    "        return ''\n",
    "    text = str(text)\n",
    "    # remove urls\n",
    "    text = re.sub(r'http\\S+|www\\.\\S+', '', text)\n",
    "    # extra spaces\n",
    "    text = re.sub(r'\\s+', ' ', text).strip()\n",
    "    return text\n",
    "\n",
    "print(\"Helper functions loaded.\")"
   ]
  },
  {
   "cell_type": "code",
   "execution_count": null,
   "id": "c4577d5b",
   "metadata": {},
   "outputs": [],
   "source": [
    "# Cell 3 - load dataset list & initial inspection\n",
    "files = list(DATA_RAW.glob('**/*.csv'))\n",
    "print('Found raw files:', len(files))\n",
    "for f in files:\n",
    "    print('-', f)\n",
    "\n",
    "# build a quick map\n",
    "example_paths = {f.stem: f for f in files}\n",
    "print(\"example keys:\", list(example_paths.keys())[:10])"
   ]
  },
  {
   "cell_type": "code",
   "execution_count": null,
   "id": "126d731f",
   "metadata": {},
   "outputs": [],
   "source": [
    "# Cell 4 - load a dataset (BharatFakeNewsKosh example)\n",
    "bf_file = [f for f in files if 'Bharat' in f.name or 'bharat' in f.name]\n",
    "if bf_file:\n",
    "    df_bharat = pd.read_csv(bf_file[0])\n",
    "else:\n",
    "    # try default path\n",
    "    p = DATA_RAW / 'BharatFakeNewsKosh.csv'\n",
    "    if p.exists():\n",
    "        df_bharat = pd.read_csv(p)\n",
    "    else:\n",
    "        df_bharat = pd.DataFrame()\n",
    "print('shape:', df_bharat.shape)\n",
    "df_bharat.head()"
   ]
  },
  {
   "cell_type": "code",
   "execution_count": null,
   "id": "82f5bcf6",
   "metadata": {},
   "outputs": [],
   "source": [
    "# Cell 5 - quick checks - missing values, label distribution\n",
    "if df_bharat.shape[0] == 0:\n",
    "    print(\"No bharat dataset loaded; skip checks.\")\n",
    "else:\n",
    "    for col in df_bharat.columns:\n",
    "        print(col, '->', df_bharat[col].isna().mean())\n",
    "\n",
    "    label_col = None\n",
    "    for c in ['label','class','label_text','target']:\n",
    "        if c in df_bharat.columns:\n",
    "            label_col = c\n",
    "            break\n",
    "\n",
    "    print('label_col', label_col)\n",
    "    if label_col:\n",
    "        print(df_bharat[label_col].value_counts(dropna=False))"
   ]
  },
  {
   "cell_type": "code",
   "execution_count": null,
   "id": "47ca241f",
   "metadata": {},
   "outputs": [],
   "source": [
    "# Cell 6 - text length distribution and examples\n",
    "if df_bharat.shape[0] > 0:\n",
    "    text_cols = [c for c in df_bharat.columns if 'text' in c.lower() or 'content' in c.lower() or 'title' in c.lower()]\n",
    "    print('text columns:', text_cols)\n",
    "    sample_col = text_cols[0] if text_cols else df_bharat.columns[0]\n",
    "    df_bharat['clean_text'] = df_bharat[sample_col].astype(str).map(basic_clean_text)\n",
    "    df_bharat['len'] = df_bharat['clean_text'].str.split().map(lambda x: len(x) if isinstance(x, list) else 0)\n",
    "    print(df_bharat['len'].describe())\n",
    "    plt.figure(figsize=(8,4)); plt.hist(df_bharat['len'].clip(upper=500), bins=50); plt.title('text length (capped at 500)'); plt.show()\n",
    "else:\n",
    "    print(\"No data to analyze.\")"
   ]
  },
  {
   "cell_type": "code",
   "execution_count": null,
   "id": "7424b98a",
   "metadata": {},
   "outputs": [],
   "source": [
    "# Cell 7 - duplicates & save sample processed file\n",
    "if df_bharat.shape[0] > 0:\n",
    "    print('duplicates:', df_bharat.duplicated(subset=[sample_col]).mean())\n",
    "    out_path = DATA_INTERIM / 'bharat_sample_clean.csv'\n",
    "    cols = ['clean_text', 'len']\n",
    "    if 'label_col' in locals() and label_col:\n",
    "        cols.append(label_col)\n",
    "    df_bharat[cols].to_csv(out_path, index=False)\n",
    "    print('wrote', out_path)\n",
    "else:\n",
    "    print(\"No data to save.\")"
   ]
  },
  {
   "cell_type": "markdown",
   "id": "a0261f69",
   "metadata": {},
   "source": [
    "## EDA Notes\n",
    "\n",
    "- Columns found: ...\n",
    "- Missing values: ...\n",
    "- Label distribution: ...\n",
    "- Next steps: combine datasets, standardize label names, generate balanced train/test splits."
   ]
  }
 ],
 "metadata": {
  "language_info": {
   "name": "python"
  }
 },
 "nbformat": 4,
 "nbformat_minor": 5
}
