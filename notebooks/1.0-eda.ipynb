{
 "cells": [
  {
   "cell_type": "markdown",
   "id": "3ec35087",
   "metadata": {},
   "source": [
    "# 1.0 - EDA\n",
    "\n",
    "This notebook focuses on loading & understanding datasets, not training."
   ]
  },
  {
   "cell_type": "code",
   "execution_count": null,
   "id": "01608994",
   "metadata": {},
   "outputs": [],
   "source": [
    "# --- Imports ---\n",
    "import pandas as pd\n",
    "import matplotlib.pyplot as plt\n",
    "import seaborn as sns\n",
    "\n",
    "# --- Load processed dataset ---\n",
    "df = pd.read_csv(\"data/processed/combined_dataset.csv\")\n",
    "df.head()\n"
   ]
  },
  {
   "cell_type": "code",
   "execution_count": null,
   "id": "dd055d34",
   "metadata": {},
   "outputs": [],
   "source": [
    "# --- Basic stats ---\n",
    "print(df.shape)\n",
    "print(df.info())\n",
    "df['label'].value_counts()\n"
   ]
  },
  {
   "cell_type": "code",
   "execution_count": null,
   "id": "c4577d5b",
   "metadata": {},
   "outputs": [],
   "source": [
    "# --- Text length distribution ---\n",
    "df['text_length'] = df['text'].astype(str).apply(len)\n",
    "sns.histplot(df['text_length'], bins=50, kde=True)\n",
    "plt.title(\"Text Length Distribution\")\n",
    "plt.show()\n"
   ]
  },
  {
   "cell_type": "code",
   "execution_count": null,
   "id": "126d731f",
   "metadata": {},
   "outputs": [],
   "source": [
    "# --- Label distribution ---\n",
    "sns.countplot(x='label', data=df)\n",
    "plt.title(\"Label Distribution\")\n",
    "plt.show()\n",
    "\n"
   ]
  },
  {
   "cell_type": "code",
   "execution_count": null,
   "id": "7229f49e",
   "metadata": {},
   "outputs": [],
   "source": [
    "# --- Save cleaned dataset (optional) ---\n",
    "df.to_csv(\"data/interim/eda_checked.csv\", index=False)\n"
   ]
  }
 ],
 "metadata": {
  "kernelspec": {
   "display_name": "Python 3",
   "language": "python",
   "name": "python3"
  },
  "language_info": {
   "codemirror_mode": {
    "name": "ipython",
    "version": 3
   },
   "file_extension": ".py",
   "mimetype": "text/x-python",
   "name": "python",
   "nbconvert_exporter": "python",
   "pygments_lexer": "ipython3",
   "version": "3.9.6"
  }
 },
 "nbformat": 4,
 "nbformat_minor": 5
}
